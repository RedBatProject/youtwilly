{
  "nbformat": 4,
  "nbformat_minor": 0,
  "metadata": {
    "colab": {
      "name": "youwilly1.ipynb",
      "provenance": [],
      "authorship_tag": "ABX9TyPLcrUPaK/XqV30z97sK2y4",
      "include_colab_link": true
    },
    "kernelspec": {
      "name": "python3",
      "display_name": "Python 3"
    },
    "language_info": {
      "name": "python"
    }
  },
  "cells": [
    {
      "cell_type": "markdown",
      "metadata": {
        "id": "view-in-github",
        "colab_type": "text"
      },
      "source": [
        "<a href=\"https://colab.research.google.com/github/willyvonka1997/youtwilly/blob/main/youwilly1.ipynb\" target=\"_parent\"><img src=\"https://colab.research.google.com/assets/colab-badge.svg\" alt=\"Open In Colab\"/></a>"
      ]
    },
    {
      "cell_type": "code",
      "metadata": {
        "id": "hwL4FHsUoy8S"
      },
      "source": [
        "from pytube import YouTube\n",
        "link = input(\"Enter the link and the format ---22 for 720p and ---18 for 360p:\\n \")\n",
        "\n",
        "yt = YouTube(link.split('---')[0])\n",
        "ys = yt.streams.get_by_itag(link.split('---')[1])\n",
        "ys.download(\"/content/drive/MyDrive/downloads\")"
      ],
      "execution_count": null,
      "outputs": []
    }
  ]
}